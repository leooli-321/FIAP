{
 "cells": [
  {
   "cell_type": "code",
   "execution_count": 55,
   "metadata": {},
   "outputs": [],
   "source": [
    "if False:\n",
    "    %pip install numpy\n",
    "    %pip install pandas\n",
    "    %pip install matplotlib\n",
    "\n",
    "import numpy as np\n",
    "import pandas as pd"
   ]
  },
  {
   "cell_type": "code",
   "execution_count": 56,
   "metadata": {},
   "outputs": [
    {
     "data": {
      "text/plain": [
       "26.5"
      ]
     },
     "execution_count": 56,
     "metadata": {},
     "output_type": "execute_result"
    }
   ],
   "source": [
    "# array, lista, vector:\n",
    "\n",
    "lista_nativa = [1, 2, 3, 4, 5, 144]\n",
    "\n",
    "acc = 0\n",
    "for i in range(len(lista_nativa)):\n",
    "    acc += lista_nativa[i]\n",
    "\n",
    "media = acc / len(lista_nativa)\n",
    "media"
   ]
  },
  {
   "cell_type": "code",
   "execution_count": 57,
   "metadata": {},
   "outputs": [
    {
     "data": {
      "text/plain": [
       "26.5"
      ]
     },
     "execution_count": 57,
     "metadata": {},
     "output_type": "execute_result"
    }
   ],
   "source": [
    "# O numpy nos dá ferramentas para calcular estatísticas descritivas\n",
    "\n",
    "np.average(lista_nativa)\n",
    "np.mean(lista_nativa)"
   ]
  },
  {
   "cell_type": "code",
   "execution_count": 58,
   "metadata": {},
   "outputs": [
    {
     "name": "stdout",
     "output_type": "stream",
     "text": [
      "3.5\n"
     ]
    },
    {
     "data": {
      "text/plain": [
       "[1, 2, 3, 4, 5, 144]"
      ]
     },
     "execution_count": 58,
     "metadata": {},
     "output_type": "execute_result"
    }
   ],
   "source": [
    "print(np.median(lista_nativa))\n",
    "lista_nativa.sort()\n",
    "lista_nativa"
   ]
  },
  {
   "cell_type": "code",
   "execution_count": 59,
   "metadata": {},
   "outputs": [
    {
     "data": {
      "text/plain": [
       "numpy.ndarray"
      ]
     },
     "execution_count": 59,
     "metadata": {},
     "output_type": "execute_result"
    }
   ],
   "source": [
    "lista_nativa\n",
    "\n",
    "# Broadcast\n",
    "np.cos(lista_nativa)\n",
    "\n",
    "type(np.sqrt(lista_nativa))"
   ]
  },
  {
   "cell_type": "code",
   "execution_count": 60,
   "metadata": {},
   "outputs": [
    {
     "data": {
      "text/plain": [
       "array([[1, 2, 3],\n",
       "       [4, 5, 6],\n",
       "       [7, 8, 9]])"
      ]
     },
     "execution_count": 60,
     "metadata": {},
     "output_type": "execute_result"
    }
   ],
   "source": [
    "matriz_nativa = np.array([[1, 2, 3],\n",
    "                          [4, 5, 6],\n",
    "                          [7, 8, 9]])\n",
    "\n",
    "\n",
    "# for linha in range(3):\n",
    "#     for coluna in range(3):\n",
    "\n",
    "\n",
    "matriz_nativa[:, :]\n"
   ]
  },
  {
   "cell_type": "code",
   "execution_count": 61,
   "metadata": {},
   "outputs": [
    {
     "data": {
      "text/plain": [
       "array([[5., 0., 0., 0.],\n",
       "       [0., 5., 0., 0.],\n",
       "       [0., 0., 5., 0.],\n",
       "       [0., 0., 0., 5.]])"
      ]
     },
     "execution_count": 61,
     "metadata": {},
     "output_type": "execute_result"
    }
   ],
   "source": [
    "np.identity(4)*5"
   ]
  },
  {
   "cell_type": "code",
   "execution_count": 62,
   "metadata": {},
   "outputs": [
    {
     "data": {
      "text/html": [
       "<div>\n",
       "<style scoped>\n",
       "    .dataframe tbody tr th:only-of-type {\n",
       "        vertical-align: middle;\n",
       "    }\n",
       "\n",
       "    .dataframe tbody tr th {\n",
       "        vertical-align: top;\n",
       "    }\n",
       "\n",
       "    .dataframe thead th {\n",
       "        text-align: right;\n",
       "    }\n",
       "</style>\n",
       "<table border=\"1\" class=\"dataframe\">\n",
       "  <thead>\n",
       "    <tr style=\"text-align: right;\">\n",
       "      <th></th>\n",
       "      <th>Espécie</th>\n",
       "      <th>Comprimento do Abdômen</th>\n",
       "      <th>Comprimento das Antenas</th>\n",
       "    </tr>\n",
       "  </thead>\n",
       "  <tbody>\n",
       "    <tr>\n",
       "      <th>72</th>\n",
       "      <td>Esperança</td>\n",
       "      <td>8.45</td>\n",
       "      <td>7.4</td>\n",
       "    </tr>\n",
       "  </tbody>\n",
       "</table>\n",
       "</div>"
      ],
      "text/plain": [
       "      Espécie  Comprimento do Abdômen  Comprimento das Antenas\n",
       "72  Esperança                    8.45                      7.4"
      ]
     },
     "execution_count": 62,
     "metadata": {},
     "output_type": "execute_result"
    }
   ],
   "source": [
    "df_gafanha = pd.read_csv(\"./dados/gaf_esp.csv\", sep=\";\") # Valor separado por virgula\n",
    "df_gafanha.head() # head apresenta os primeiros 5 elementos\n",
    "df_gafanha.tail() # tail apresenta os 5 ultimos elementos\n",
    "df_gafanha.sample() # apresenta elementos aleatórios"
   ]
  },
  {
   "cell_type": "code",
   "execution_count": 63,
   "metadata": {},
   "outputs": [
    {
     "data": {
      "text/plain": [
       "array([0.5, 0.5, 0.6, 0.65, 0.54, 3.0, 2.0, 1.0, 1.1, 1.2, 1.4, 2.7, 0.5,\n",
       "       0.9, 1.1, 2.9, 2.0, 1.52, 1.2, 2.0, 2.4, 3.0, 3.6, 1.79, 1.64,\n",
       "       1.12, 2.6, 2.54, 2.46, 2.2, 2.0, 1.2, 1.5, 1.2, 0.78, 1.79, 2.8,\n",
       "       2.45, 1.7, 2.22, 1.67, 1.43, 2.78, 2.64, 2.42, 2.37, 1.98, 1.5,\n",
       "       1.3, 1.2, 8.3, 8.1, 8.0, 5.4, 10.0, 9.5, 6.7, 6.87, 10.0, 9.54,\n",
       "       6.0, 7.0, 9.0, 8.0, 8.5, 6.7, 7.3, 7.0, 8.8, 8.0, 7.0, 8.2, 8.45,\n",
       "       7.64, 9.5, 9.24, 9.0, 9.0, 9.63, 7.7, 7.6, 8.2, 8.34, 8.74, 8.8,\n",
       "       8.69, 8.73, 6.7, 6.54, 7.2, 7.86, 7.33, 9.87, 7.12, 7.7, 9.75, 6.2,\n",
       "       9.2, 9.1, 8.29], dtype=object)"
      ]
     },
     "execution_count": 63,
     "metadata": {},
     "output_type": "execute_result"
    }
   ],
   "source": [
    "df_gafanha.values[:, 1]"
   ]
  },
  {
   "cell_type": "code",
   "execution_count": 64,
   "metadata": {},
   "outputs": [
    {
     "data": {
      "text/plain": [
       "4.9362"
      ]
     },
     "execution_count": 64,
     "metadata": {},
     "output_type": "execute_result"
    }
   ],
   "source": [
    "np.average(df_gafanha.values[:, 1]) # calculando a média"
   ]
  },
  {
   "cell_type": "code",
   "execution_count": 65,
   "metadata": {},
   "outputs": [
    {
     "data": {
      "text/html": [
       "<div>\n",
       "<style scoped>\n",
       "    .dataframe tbody tr th:only-of-type {\n",
       "        vertical-align: middle;\n",
       "    }\n",
       "\n",
       "    .dataframe tbody tr th {\n",
       "        vertical-align: top;\n",
       "    }\n",
       "\n",
       "    .dataframe thead th {\n",
       "        text-align: right;\n",
       "    }\n",
       "</style>\n",
       "<table border=\"1\" class=\"dataframe\">\n",
       "  <thead>\n",
       "    <tr style=\"text-align: right;\">\n",
       "      <th></th>\n",
       "      <th>Comprimento do Abdômen</th>\n",
       "      <th>Comprimento das Antenas</th>\n",
       "    </tr>\n",
       "  </thead>\n",
       "  <tbody>\n",
       "    <tr>\n",
       "      <th>count</th>\n",
       "      <td>100.000000</td>\n",
       "      <td>100.000000</td>\n",
       "    </tr>\n",
       "    <tr>\n",
       "      <th>mean</th>\n",
       "      <td>4.936200</td>\n",
       "      <td>5.382400</td>\n",
       "    </tr>\n",
       "    <tr>\n",
       "      <th>std</th>\n",
       "      <td>3.343806</td>\n",
       "      <td>2.296001</td>\n",
       "    </tr>\n",
       "    <tr>\n",
       "      <th>min</th>\n",
       "      <td>0.500000</td>\n",
       "      <td>0.890000</td>\n",
       "    </tr>\n",
       "    <tr>\n",
       "      <th>25%</th>\n",
       "      <td>1.692500</td>\n",
       "      <td>3.775000</td>\n",
       "    </tr>\n",
       "    <tr>\n",
       "      <th>50%</th>\n",
       "      <td>4.500000</td>\n",
       "      <td>5.500000</td>\n",
       "    </tr>\n",
       "    <tr>\n",
       "      <th>75%</th>\n",
       "      <td>8.200000</td>\n",
       "      <td>7.000000</td>\n",
       "    </tr>\n",
       "    <tr>\n",
       "      <th>max</th>\n",
       "      <td>10.000000</td>\n",
       "      <td>9.700000</td>\n",
       "    </tr>\n",
       "  </tbody>\n",
       "</table>\n",
       "</div>"
      ],
      "text/plain": [
       "       Comprimento do Abdômen  Comprimento das Antenas\n",
       "count              100.000000               100.000000\n",
       "mean                 4.936200                 5.382400\n",
       "std                  3.343806                 2.296001\n",
       "min                  0.500000                 0.890000\n",
       "25%                  1.692500                 3.775000\n",
       "50%                  4.500000                 5.500000\n",
       "75%                  8.200000                 7.000000\n",
       "max                 10.000000                 9.700000"
      ]
     },
     "execution_count": 65,
     "metadata": {},
     "output_type": "execute_result"
    }
   ],
   "source": [
    "df_gafanha.describe() # informações básicas do DataFrame"
   ]
  },
  {
   "cell_type": "code",
   "execution_count": 66,
   "metadata": {},
   "outputs": [
    {
     "data": {
      "text/plain": [
       "count    100.000000\n",
       "mean       4.936200\n",
       "std        3.343806\n",
       "min        0.500000\n",
       "25%        1.692500\n",
       "50%        4.500000\n",
       "75%        8.200000\n",
       "max       10.000000\n",
       "Name: Comprimento do Abdômen, dtype: float64"
      ]
     },
     "execution_count": 66,
     "metadata": {},
     "output_type": "execute_result"
    }
   ],
   "source": [
    "df_gafanha[\"Comprimento do Abdômen\"].describe() #descrevendo uma coluna específica"
   ]
  },
  {
   "cell_type": "code",
   "execution_count": 67,
   "metadata": {},
   "outputs": [
    {
     "data": {
      "text/plain": [
       "0      True\n",
       "1      True\n",
       "2      True\n",
       "3      True\n",
       "4      True\n",
       "      ...  \n",
       "95    False\n",
       "96    False\n",
       "97    False\n",
       "98    False\n",
       "99    False\n",
       "Name: Comprimento do Abdômen, Length: 100, dtype: bool"
      ]
     },
     "execution_count": 67,
     "metadata": {},
     "output_type": "execute_result"
    }
   ],
   "source": [
    "df_gafanha[\"Comprimento do Abdômen\"] < 4.9 # Comparando a tabela inteira com um valor especificado"
   ]
  },
  {
   "cell_type": "code",
   "execution_count": 68,
   "metadata": {},
   "outputs": [
    {
     "data": {
      "text/html": [
       "<div>\n",
       "<style scoped>\n",
       "    .dataframe tbody tr th:only-of-type {\n",
       "        vertical-align: middle;\n",
       "    }\n",
       "\n",
       "    .dataframe tbody tr th {\n",
       "        vertical-align: top;\n",
       "    }\n",
       "\n",
       "    .dataframe thead th {\n",
       "        text-align: right;\n",
       "    }\n",
       "</style>\n",
       "<table border=\"1\" class=\"dataframe\">\n",
       "  <thead>\n",
       "    <tr style=\"text-align: right;\">\n",
       "      <th></th>\n",
       "      <th>Espécie</th>\n",
       "      <th>Comprimento do Abdômen</th>\n",
       "      <th>Comprimento das Antenas</th>\n",
       "    </tr>\n",
       "  </thead>\n",
       "  <tbody>\n",
       "    <tr>\n",
       "      <th>0</th>\n",
       "      <td>Gafanhoto</td>\n",
       "      <td>0.50</td>\n",
       "      <td>7.00</td>\n",
       "    </tr>\n",
       "    <tr>\n",
       "      <th>1</th>\n",
       "      <td>Gafanhoto</td>\n",
       "      <td>0.50</td>\n",
       "      <td>6.00</td>\n",
       "    </tr>\n",
       "    <tr>\n",
       "      <th>2</th>\n",
       "      <td>Gafanhoto</td>\n",
       "      <td>0.60</td>\n",
       "      <td>5.50</td>\n",
       "    </tr>\n",
       "    <tr>\n",
       "      <th>3</th>\n",
       "      <td>Gafanhoto</td>\n",
       "      <td>0.65</td>\n",
       "      <td>4.50</td>\n",
       "    </tr>\n",
       "    <tr>\n",
       "      <th>4</th>\n",
       "      <td>Gafanhoto</td>\n",
       "      <td>0.54</td>\n",
       "      <td>3.20</td>\n",
       "    </tr>\n",
       "    <tr>\n",
       "      <th>5</th>\n",
       "      <td>Gafanhoto</td>\n",
       "      <td>3.00</td>\n",
       "      <td>2.20</td>\n",
       "    </tr>\n",
       "    <tr>\n",
       "      <th>6</th>\n",
       "      <td>Gafanhoto</td>\n",
       "      <td>2.00</td>\n",
       "      <td>1.75</td>\n",
       "    </tr>\n",
       "    <tr>\n",
       "      <th>7</th>\n",
       "      <td>Gafanhoto</td>\n",
       "      <td>1.00</td>\n",
       "      <td>1.00</td>\n",
       "    </tr>\n",
       "    <tr>\n",
       "      <th>8</th>\n",
       "      <td>Gafanhoto</td>\n",
       "      <td>1.10</td>\n",
       "      <td>0.89</td>\n",
       "    </tr>\n",
       "    <tr>\n",
       "      <th>9</th>\n",
       "      <td>Gafanhoto</td>\n",
       "      <td>1.20</td>\n",
       "      <td>1.00</td>\n",
       "    </tr>\n",
       "    <tr>\n",
       "      <th>10</th>\n",
       "      <td>Gafanhoto</td>\n",
       "      <td>1.40</td>\n",
       "      <td>1.50</td>\n",
       "    </tr>\n",
       "    <tr>\n",
       "      <th>11</th>\n",
       "      <td>Gafanhoto</td>\n",
       "      <td>2.70</td>\n",
       "      <td>5.50</td>\n",
       "    </tr>\n",
       "    <tr>\n",
       "      <th>12</th>\n",
       "      <td>Gafanhoto</td>\n",
       "      <td>0.50</td>\n",
       "      <td>1.00</td>\n",
       "    </tr>\n",
       "    <tr>\n",
       "      <th>13</th>\n",
       "      <td>Gafanhoto</td>\n",
       "      <td>0.90</td>\n",
       "      <td>4.70</td>\n",
       "    </tr>\n",
       "    <tr>\n",
       "      <th>14</th>\n",
       "      <td>Gafanhoto</td>\n",
       "      <td>1.10</td>\n",
       "      <td>3.10</td>\n",
       "    </tr>\n",
       "    <tr>\n",
       "      <th>15</th>\n",
       "      <td>Gafanhoto</td>\n",
       "      <td>2.90</td>\n",
       "      <td>1.90</td>\n",
       "    </tr>\n",
       "    <tr>\n",
       "      <th>16</th>\n",
       "      <td>Gafanhoto</td>\n",
       "      <td>2.00</td>\n",
       "      <td>4.00</td>\n",
       "    </tr>\n",
       "    <tr>\n",
       "      <th>17</th>\n",
       "      <td>Gafanhoto</td>\n",
       "      <td>1.52</td>\n",
       "      <td>4.76</td>\n",
       "    </tr>\n",
       "    <tr>\n",
       "      <th>18</th>\n",
       "      <td>Gafanhoto</td>\n",
       "      <td>1.20</td>\n",
       "      <td>2.50</td>\n",
       "    </tr>\n",
       "    <tr>\n",
       "      <th>19</th>\n",
       "      <td>Gafanhoto</td>\n",
       "      <td>2.00</td>\n",
       "      <td>4.70</td>\n",
       "    </tr>\n",
       "    <tr>\n",
       "      <th>20</th>\n",
       "      <td>Gafanhoto</td>\n",
       "      <td>2.40</td>\n",
       "      <td>3.00</td>\n",
       "    </tr>\n",
       "    <tr>\n",
       "      <th>21</th>\n",
       "      <td>Gafanhoto</td>\n",
       "      <td>3.00</td>\n",
       "      <td>4.00</td>\n",
       "    </tr>\n",
       "    <tr>\n",
       "      <th>22</th>\n",
       "      <td>Gafanhoto</td>\n",
       "      <td>3.60</td>\n",
       "      <td>4.10</td>\n",
       "    </tr>\n",
       "    <tr>\n",
       "      <th>23</th>\n",
       "      <td>Gafanhoto</td>\n",
       "      <td>1.79</td>\n",
       "      <td>5.50</td>\n",
       "    </tr>\n",
       "    <tr>\n",
       "      <th>24</th>\n",
       "      <td>Gafanhoto</td>\n",
       "      <td>1.64</td>\n",
       "      <td>3.30</td>\n",
       "    </tr>\n",
       "    <tr>\n",
       "      <th>25</th>\n",
       "      <td>Gafanhoto</td>\n",
       "      <td>1.12</td>\n",
       "      <td>5.20</td>\n",
       "    </tr>\n",
       "    <tr>\n",
       "      <th>26</th>\n",
       "      <td>Gafanhoto</td>\n",
       "      <td>2.60</td>\n",
       "      <td>4.30</td>\n",
       "    </tr>\n",
       "    <tr>\n",
       "      <th>27</th>\n",
       "      <td>Gafanhoto</td>\n",
       "      <td>2.54</td>\n",
       "      <td>4.10</td>\n",
       "    </tr>\n",
       "    <tr>\n",
       "      <th>28</th>\n",
       "      <td>Gafanhoto</td>\n",
       "      <td>2.46</td>\n",
       "      <td>4.24</td>\n",
       "    </tr>\n",
       "    <tr>\n",
       "      <th>29</th>\n",
       "      <td>Gafanhoto</td>\n",
       "      <td>2.20</td>\n",
       "      <td>4.40</td>\n",
       "    </tr>\n",
       "    <tr>\n",
       "      <th>30</th>\n",
       "      <td>Gafanhoto</td>\n",
       "      <td>2.00</td>\n",
       "      <td>3.00</td>\n",
       "    </tr>\n",
       "    <tr>\n",
       "      <th>31</th>\n",
       "      <td>Gafanhoto</td>\n",
       "      <td>1.20</td>\n",
       "      <td>4.07</td>\n",
       "    </tr>\n",
       "    <tr>\n",
       "      <th>32</th>\n",
       "      <td>Gafanhoto</td>\n",
       "      <td>1.50</td>\n",
       "      <td>6.00</td>\n",
       "    </tr>\n",
       "    <tr>\n",
       "      <th>33</th>\n",
       "      <td>Gafanhoto</td>\n",
       "      <td>1.20</td>\n",
       "      <td>1.70</td>\n",
       "    </tr>\n",
       "    <tr>\n",
       "      <th>34</th>\n",
       "      <td>Gafanhoto</td>\n",
       "      <td>0.78</td>\n",
       "      <td>2.10</td>\n",
       "    </tr>\n",
       "    <tr>\n",
       "      <th>35</th>\n",
       "      <td>Gafanhoto</td>\n",
       "      <td>1.79</td>\n",
       "      <td>2.70</td>\n",
       "    </tr>\n",
       "    <tr>\n",
       "      <th>36</th>\n",
       "      <td>Gafanhoto</td>\n",
       "      <td>2.80</td>\n",
       "      <td>3.00</td>\n",
       "    </tr>\n",
       "    <tr>\n",
       "      <th>37</th>\n",
       "      <td>Gafanhoto</td>\n",
       "      <td>2.45</td>\n",
       "      <td>2.30</td>\n",
       "    </tr>\n",
       "    <tr>\n",
       "      <th>38</th>\n",
       "      <td>Gafanhoto</td>\n",
       "      <td>1.70</td>\n",
       "      <td>4.00</td>\n",
       "    </tr>\n",
       "    <tr>\n",
       "      <th>39</th>\n",
       "      <td>Gafanhoto</td>\n",
       "      <td>2.22</td>\n",
       "      <td>3.78</td>\n",
       "    </tr>\n",
       "    <tr>\n",
       "      <th>40</th>\n",
       "      <td>Gafanhoto</td>\n",
       "      <td>1.67</td>\n",
       "      <td>3.50</td>\n",
       "    </tr>\n",
       "    <tr>\n",
       "      <th>41</th>\n",
       "      <td>Gafanhoto</td>\n",
       "      <td>1.43</td>\n",
       "      <td>3.00</td>\n",
       "    </tr>\n",
       "    <tr>\n",
       "      <th>42</th>\n",
       "      <td>Gafanhoto</td>\n",
       "      <td>2.78</td>\n",
       "      <td>3.60</td>\n",
       "    </tr>\n",
       "    <tr>\n",
       "      <th>43</th>\n",
       "      <td>Gafanhoto</td>\n",
       "      <td>2.64</td>\n",
       "      <td>4.12</td>\n",
       "    </tr>\n",
       "    <tr>\n",
       "      <th>44</th>\n",
       "      <td>Gafanhoto</td>\n",
       "      <td>2.42</td>\n",
       "      <td>3.89</td>\n",
       "    </tr>\n",
       "    <tr>\n",
       "      <th>45</th>\n",
       "      <td>Gafanhoto</td>\n",
       "      <td>2.37</td>\n",
       "      <td>3.76</td>\n",
       "    </tr>\n",
       "    <tr>\n",
       "      <th>46</th>\n",
       "      <td>Gafanhoto</td>\n",
       "      <td>1.98</td>\n",
       "      <td>4.30</td>\n",
       "    </tr>\n",
       "    <tr>\n",
       "      <th>47</th>\n",
       "      <td>Gafanhoto</td>\n",
       "      <td>1.50</td>\n",
       "      <td>2.20</td>\n",
       "    </tr>\n",
       "    <tr>\n",
       "      <th>48</th>\n",
       "      <td>Gafanhoto</td>\n",
       "      <td>1.30</td>\n",
       "      <td>3.60</td>\n",
       "    </tr>\n",
       "    <tr>\n",
       "      <th>49</th>\n",
       "      <td>Gafanhoto</td>\n",
       "      <td>1.20</td>\n",
       "      <td>4.00</td>\n",
       "    </tr>\n",
       "  </tbody>\n",
       "</table>\n",
       "</div>"
      ],
      "text/plain": [
       "      Espécie  Comprimento do Abdômen  Comprimento das Antenas\n",
       "0   Gafanhoto                    0.50                     7.00\n",
       "1   Gafanhoto                    0.50                     6.00\n",
       "2   Gafanhoto                    0.60                     5.50\n",
       "3   Gafanhoto                    0.65                     4.50\n",
       "4   Gafanhoto                    0.54                     3.20\n",
       "5   Gafanhoto                    3.00                     2.20\n",
       "6   Gafanhoto                    2.00                     1.75\n",
       "7   Gafanhoto                    1.00                     1.00\n",
       "8   Gafanhoto                    1.10                     0.89\n",
       "9   Gafanhoto                    1.20                     1.00\n",
       "10  Gafanhoto                    1.40                     1.50\n",
       "11  Gafanhoto                    2.70                     5.50\n",
       "12  Gafanhoto                    0.50                     1.00\n",
       "13  Gafanhoto                    0.90                     4.70\n",
       "14  Gafanhoto                    1.10                     3.10\n",
       "15  Gafanhoto                    2.90                     1.90\n",
       "16  Gafanhoto                    2.00                     4.00\n",
       "17  Gafanhoto                    1.52                     4.76\n",
       "18  Gafanhoto                    1.20                     2.50\n",
       "19  Gafanhoto                    2.00                     4.70\n",
       "20  Gafanhoto                    2.40                     3.00\n",
       "21  Gafanhoto                    3.00                     4.00\n",
       "22  Gafanhoto                    3.60                     4.10\n",
       "23  Gafanhoto                    1.79                     5.50\n",
       "24  Gafanhoto                    1.64                     3.30\n",
       "25  Gafanhoto                    1.12                     5.20\n",
       "26  Gafanhoto                    2.60                     4.30\n",
       "27  Gafanhoto                    2.54                     4.10\n",
       "28  Gafanhoto                    2.46                     4.24\n",
       "29  Gafanhoto                    2.20                     4.40\n",
       "30  Gafanhoto                    2.00                     3.00\n",
       "31  Gafanhoto                    1.20                     4.07\n",
       "32  Gafanhoto                    1.50                     6.00\n",
       "33  Gafanhoto                    1.20                     1.70\n",
       "34  Gafanhoto                    0.78                     2.10\n",
       "35  Gafanhoto                    1.79                     2.70\n",
       "36  Gafanhoto                    2.80                     3.00\n",
       "37  Gafanhoto                    2.45                     2.30\n",
       "38  Gafanhoto                    1.70                     4.00\n",
       "39  Gafanhoto                    2.22                     3.78\n",
       "40  Gafanhoto                    1.67                     3.50\n",
       "41  Gafanhoto                    1.43                     3.00\n",
       "42  Gafanhoto                    2.78                     3.60\n",
       "43  Gafanhoto                    2.64                     4.12\n",
       "44  Gafanhoto                    2.42                     3.89\n",
       "45  Gafanhoto                    2.37                     3.76\n",
       "46  Gafanhoto                    1.98                     4.30\n",
       "47  Gafanhoto                    1.50                     2.20\n",
       "48  Gafanhoto                    1.30                     3.60\n",
       "49  Gafanhoto                    1.20                     4.00"
      ]
     },
     "execution_count": 68,
     "metadata": {},
     "output_type": "execute_result"
    }
   ],
   "source": [
    "df_gafanha[df_gafanha[\"Comprimento do Abdômen\"] < 4.9]"
   ]
  },
  {
   "cell_type": "code",
   "execution_count": 71,
   "metadata": {},
   "outputs": [
    {
     "data": {
      "text/plain": [
       "array([[<Axes: title={'center': 'Comprimento do Abdômen'}>,\n",
       "        <Axes: title={'center': 'Comprimento das Antenas'}>]],\n",
       "      dtype=object)"
      ]
     },
     "execution_count": 71,
     "metadata": {},
     "output_type": "execute_result"
    },
    {
     "data": {
      "image/png": "[encoded data removed]",
      "text/plain": [
       "<Figure size 640x480 with 2 Axes>"
      ]
     },
     "metadata": {},
     "output_type": "display_data"
    }
   ],
   "source": [
    "df_gafanha[df_gafanha[\"Comprimento do Abdômen\"] < 4.9].hist() # Gráfico de histograma"
   ]
  },
  {
   "cell_type": "code",
   "execution_count": 76,
   "metadata": {},
   "outputs": [
    {
     "data": {
      "text/html": [
       "<div>\n",
       "<style scoped>\n",
       "    .dataframe tbody tr th:only-of-type {\n",
       "        vertical-align: middle;\n",
       "    }\n",
       "\n",
       "    .dataframe tbody tr th {\n",
       "        vertical-align: top;\n",
       "    }\n",
       "\n",
       "    .dataframe thead th {\n",
       "        text-align: right;\n",
       "    }\n",
       "</style>\n",
       "<table border=\"1\" class=\"dataframe\">\n",
       "  <thead>\n",
       "    <tr style=\"text-align: right;\">\n",
       "      <th></th>\n",
       "      <th>Comprimento do Abdômen</th>\n",
       "      <th>Comprimento das Antenas</th>\n",
       "    </tr>\n",
       "  </thead>\n",
       "  <tbody>\n",
       "    <tr>\n",
       "      <th>count</th>\n",
       "      <td>8.000000</td>\n",
       "      <td>8.000000</td>\n",
       "    </tr>\n",
       "    <tr>\n",
       "      <th>mean</th>\n",
       "      <td>21.908929</td>\n",
       "      <td>21.993835</td>\n",
       "    </tr>\n",
       "    <tr>\n",
       "      <th>std</th>\n",
       "      <td>33.276346</td>\n",
       "      <td>33.198621</td>\n",
       "    </tr>\n",
       "    <tr>\n",
       "      <th>min</th>\n",
       "      <td>0.500000</td>\n",
       "      <td>0.890000</td>\n",
       "    </tr>\n",
       "    <tr>\n",
       "      <th>25%</th>\n",
       "      <td>4.271320</td>\n",
       "      <td>4.932213</td>\n",
       "    </tr>\n",
       "    <tr>\n",
       "      <th>50%</th>\n",
       "      <td>8.325000</td>\n",
       "      <td>7.837500</td>\n",
       "    </tr>\n",
       "    <tr>\n",
       "      <th>75%</th>\n",
       "      <td>20.941369</td>\n",
       "      <td>21.043769</td>\n",
       "    </tr>\n",
       "    <tr>\n",
       "      <th>max</th>\n",
       "      <td>100.000000</td>\n",
       "      <td>100.000000</td>\n",
       "    </tr>\n",
       "  </tbody>\n",
       "</table>\n",
       "</div>"
      ],
      "text/plain": [
       "       Comprimento do Abdômen  Comprimento das Antenas\n",
       "count                8.000000                 8.000000\n",
       "mean                21.908929                21.993835\n",
       "std                 33.276346                33.198621\n",
       "min                  0.500000                 0.890000\n",
       "25%                  4.271320                 4.932213\n",
       "50%                  8.325000                 7.837500\n",
       "75%                 20.941369                21.043769\n",
       "max                100.000000               100.000000"
      ]
     },
     "execution_count": 76,
     "metadata": {},
     "output_type": "execute_result"
    },
    {
     "ename": "",
     "evalue": "",
     "output_type": "error",
     "traceback": [
      "\u001b[1;31mThe Kernel crashed while executing code in the current cell or a previous cell. \n",
      "\u001b[1;31mPlease review the code in the cell(s) to identify a possible cause of the failure. \n",
      "\u001b[1;31mClick <a href='https://aka.ms/vscodeJupyterKernelCrash'>here</a> for more info. \n",
      "\u001b[1;31mView Jupyter <a href='command:jupyter.viewOutput'>log</a> for further details."
     ]
    }
   ],
   "source": []
  },
  {
   "cell_type": "code",
   "execution_count": null,
   "metadata": {},
   "outputs": [],
   "source": []
  }
 ],
 "metadata": {
  "kernelspec": {
   "display_name": "Python 3",
   "language": "python",
   "name": "python3"
  },
  "language_info": {
   "codemirror_mode": {
    "name": "ipython",
    "version": 3
   },
   "file_extension": ".py",
   "mimetype": "text/x-python",
   "name": "python",
   "nbconvert_exporter": "python",
   "pygments_lexer": "ipython3",
   "version": "3.12.2"
  }
 },
 "nbformat": 4,
 "nbformat_minor": 2
}
